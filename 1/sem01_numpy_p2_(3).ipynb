{
  "cells": [
    {
      "cell_type": "markdown",
      "metadata": {
        "id": "KdL6byQ5RgLt"
      },
      "source": [
        "# Семинар 1"
      ]
    },
    {
      "cell_type": "markdown",
      "metadata": {
        "id": "MDBh_WeKRgLu"
      },
      "source": [
        "- про Jupyter Notebook: https://devpractice.ru/python-lesson-6-work-in-jupyter-notebook/"
      ]
    },
    {
      "cell_type": "markdown",
      "metadata": {
        "id": "uu2yEmytRgLu"
      },
      "source": [
        "## numpy"
      ]
    },
    {
      "cell_type": "markdown",
      "metadata": {
        "id": "8QvfeXP-RgLu"
      },
      "source": [
        "- документация: http://www.numpy.org/"
      ]
    },
    {
      "cell_type": "markdown",
      "metadata": {
        "id": "w_yYlPenRgLu"
      },
      "source": [
        "Библиотека numpy является удобным инструментом для работы с многомерными массивами с возможностью векторизации вычислений. Рассмотрим базовые вещи, которые можно делать с помощью нее."
      ]
    },
    {
      "cell_type": "code",
      "execution_count": null,
      "metadata": {
        "id": "KFu7kyPkRgLu"
      },
      "outputs": [],
      "source": [
        "import numpy as np"
      ]
    },
    {
      "cell_type": "code",
      "execution_count": null,
      "metadata": {
        "id": "2G5-PEK1RgLv"
      },
      "outputs": [],
      "source": [
        "vec = np.array([[1, 2], [3, 4], [5, 6]])"
      ]
    },
    {
      "cell_type": "code",
      "execution_count": null,
      "metadata": {
        "id": "2Tmv_5CbRgLv"
      },
      "outputs": [],
      "source": [
        "vec"
      ]
    },
    {
      "cell_type": "code",
      "execution_count": null,
      "metadata": {
        "id": "nWB9fuQ-RgLv"
      },
      "outputs": [],
      "source": [
        "print(vec)"
      ]
    },
    {
      "cell_type": "markdown",
      "metadata": {
        "id": "RMkJy0_lRgLv"
      },
      "source": [
        "С чем мы работаем?"
      ]
    },
    {
      "cell_type": "code",
      "execution_count": null,
      "metadata": {
        "id": "kIhjoDekRgLw"
      },
      "outputs": [],
      "source": [
        "vec.dtype"
      ]
    },
    {
      "cell_type": "code",
      "execution_count": null,
      "metadata": {
        "id": "S3tazF1BRgLw"
      },
      "outputs": [],
      "source": [
        "type(vec)"
      ]
    },
    {
      "cell_type": "markdown",
      "metadata": {
        "id": "j8KQss8lRgLw"
      },
      "source": [
        "Размер массива:"
      ]
    },
    {
      "cell_type": "code",
      "execution_count": null,
      "metadata": {
        "id": "ObfVVoN1RgLw"
      },
      "outputs": [],
      "source": [
        "vec.shape"
      ]
    },
    {
      "cell_type": "markdown",
      "metadata": {
        "id": "ChrCjKzrRgLw"
      },
      "source": [
        "Число осей:"
      ]
    },
    {
      "cell_type": "code",
      "execution_count": null,
      "metadata": {
        "id": "V5adhEBTRgLw"
      },
      "outputs": [],
      "source": [
        "vec.ndim"
      ]
    },
    {
      "cell_type": "markdown",
      "metadata": {
        "id": "_wou7g9SRgLw"
      },
      "source": [
        "У некоторых функций бывает параметр `axis`, который позволяет применить эту функцию по разным осям - в данном случае, по строкам или столбцам:"
      ]
    },
    {
      "cell_type": "code",
      "execution_count": null,
      "metadata": {
        "id": "u2jMU5kmRgLw"
      },
      "outputs": [],
      "source": [
        "np.sum(vec)"
      ]
    },
    {
      "cell_type": "code",
      "execution_count": null,
      "metadata": {
        "id": "Sq8-7O61RgLw"
      },
      "outputs": [],
      "source": [
        "np.sum(vec, axis=0)"
      ]
    },
    {
      "cell_type": "code",
      "execution_count": null,
      "metadata": {
        "id": "K57pIpXeRgLx"
      },
      "outputs": [],
      "source": [
        "np.sum(vec, axis=1)"
      ]
    },
    {
      "cell_type": "code",
      "execution_count": null,
      "metadata": {
        "id": "wd2Ts66mRgLx"
      },
      "outputs": [],
      "source": [
        "vec.sum()"
      ]
    },
    {
      "cell_type": "markdown",
      "metadata": {
        "id": "JfoXp4HZRgLx"
      },
      "source": [
        "Транспонируем массив:"
      ]
    },
    {
      "cell_type": "code",
      "execution_count": null,
      "metadata": {
        "id": "mAsvtqLbRgLx"
      },
      "outputs": [],
      "source": [
        "vec.T"
      ]
    },
    {
      "cell_type": "code",
      "execution_count": null,
      "metadata": {
        "id": "IICHwqVARgLx"
      },
      "outputs": [],
      "source": [
        "vec.transpose()"
      ]
    },
    {
      "cell_type": "markdown",
      "metadata": {
        "id": "yb_i2lWCRgLx"
      },
      "source": [
        "Обратите внимание, что переменная `vec` не поменялась!"
      ]
    },
    {
      "cell_type": "code",
      "execution_count": null,
      "metadata": {
        "id": "hqL_nhadRgLx"
      },
      "outputs": [],
      "source": [
        "vec"
      ]
    },
    {
      "cell_type": "markdown",
      "metadata": {
        "id": "ryT-ILDnRgLx"
      },
      "source": [
        "Размеры массивов можно менять:"
      ]
    },
    {
      "cell_type": "code",
      "execution_count": null,
      "metadata": {
        "id": "uvyE058JRgLx"
      },
      "outputs": [],
      "source": [
        "vec.reshape(2, 3)"
      ]
    },
    {
      "cell_type": "code",
      "execution_count": null,
      "metadata": {
        "id": "E1TfoGLKRgLx"
      },
      "outputs": [],
      "source": [
        "vec.reshape(-1, 3)"
      ]
    },
    {
      "cell_type": "code",
      "execution_count": null,
      "metadata": {
        "id": "Ge0o47QcRgLx"
      },
      "outputs": [],
      "source": [
        "vec.reshape(2, -1)"
      ]
    },
    {
      "cell_type": "markdown",
      "metadata": {
        "id": "8ESiUI5_RgLx"
      },
      "source": [
        "Индексирование:"
      ]
    },
    {
      "cell_type": "code",
      "execution_count": null,
      "metadata": {
        "id": "k3itN-wzRgLy"
      },
      "outputs": [],
      "source": [
        "vec[:, 1]"
      ]
    },
    {
      "cell_type": "code",
      "execution_count": null,
      "metadata": {
        "id": "Xj7ce2gJRgLy"
      },
      "outputs": [],
      "source": [
        "vec[2, :]"
      ]
    },
    {
      "cell_type": "code",
      "execution_count": null,
      "metadata": {
        "id": "qU-4NL56RgLy"
      },
      "outputs": [],
      "source": [
        "vec[1:2, 0]"
      ]
    },
    {
      "cell_type": "code",
      "execution_count": null,
      "metadata": {
        "id": "20RMAkw3RgLy"
      },
      "outputs": [],
      "source": [
        "vec[::2, :]"
      ]
    },
    {
      "cell_type": "code",
      "execution_count": null,
      "metadata": {
        "id": "IjLWk9b2RgLy"
      },
      "outputs": [],
      "source": [
        "vec[vec % 2 == 0]"
      ]
    },
    {
      "cell_type": "markdown",
      "metadata": {
        "id": "aVwCy6AdRgLy"
      },
      "source": [
        "Иногда бывает полезно создавать специфичные массивы. Массив из нулей:"
      ]
    },
    {
      "cell_type": "code",
      "execution_count": null,
      "metadata": {
        "id": "pjANGNrpRgLy"
      },
      "outputs": [],
      "source": [
        "np.zeros((2, 3))"
      ]
    },
    {
      "cell_type": "markdown",
      "metadata": {
        "id": "vIF8jnkGRgLy"
      },
      "source": [
        "Массив из единиц:"
      ]
    },
    {
      "cell_type": "code",
      "execution_count": null,
      "metadata": {
        "id": "X30A42dcRgL1"
      },
      "outputs": [],
      "source": [
        "np.ones((3, 2))"
      ]
    },
    {
      "cell_type": "markdown",
      "metadata": {
        "id": "HfwmNOCpRgL1"
      },
      "source": [
        "Единичная матрица:"
      ]
    },
    {
      "cell_type": "code",
      "execution_count": null,
      "metadata": {
        "id": "jh3e1EKhRgL1"
      },
      "outputs": [],
      "source": [
        "np.identity(5)"
      ]
    },
    {
      "cell_type": "markdown",
      "metadata": {
        "id": "9DIeI7L7RgL1"
      },
      "source": [
        "Массивы можно объединять:"
      ]
    },
    {
      "cell_type": "code",
      "execution_count": null,
      "metadata": {
        "id": "60hkCrnmRgL1"
      },
      "outputs": [],
      "source": [
        "vec"
      ]
    },
    {
      "cell_type": "code",
      "execution_count": null,
      "metadata": {
        "id": "VM5C1lMzRgL1"
      },
      "outputs": [],
      "source": [
        "np.hstack((vec, np.zeros(vec.shape)))"
      ]
    },
    {
      "cell_type": "code",
      "execution_count": null,
      "metadata": {
        "id": "Qu06ejo6RgL1"
      },
      "outputs": [],
      "source": [
        "np.vstack((vec, np.zeros(vec.shape)))"
      ]
    },
    {
      "cell_type": "markdown",
      "metadata": {
        "id": "Fe8xjNviRgL1"
      },
      "source": [
        "И, наконец - арифметические операции!"
      ]
    },
    {
      "cell_type": "code",
      "execution_count": null,
      "metadata": {
        "id": "zY-D4Af4RgL1"
      },
      "outputs": [],
      "source": [
        "vec + 1"
      ]
    },
    {
      "cell_type": "code",
      "execution_count": null,
      "metadata": {
        "id": "4hY4ExaoRgL2"
      },
      "outputs": [],
      "source": [
        "vec * 2"
      ]
    },
    {
      "cell_type": "code",
      "execution_count": null,
      "metadata": {
        "id": "Y8U9WxO7RgL2"
      },
      "outputs": [],
      "source": [
        "vec ** 2"
      ]
    },
    {
      "cell_type": "code",
      "execution_count": null,
      "metadata": {
        "id": "SWOjDBj-RgL2"
      },
      "outputs": [],
      "source": [
        "vec + vec ** 2"
      ]
    },
    {
      "cell_type": "code",
      "execution_count": null,
      "metadata": {
        "id": "ylQm9tUQRgL2"
      },
      "outputs": [],
      "source": [
        "vec * vec ** 2"
      ]
    },
    {
      "cell_type": "code",
      "execution_count": null,
      "metadata": {
        "id": "dHGz3MgiRgL2"
      },
      "outputs": [],
      "source": [
        "np.sin(vec)"
      ]
    },
    {
      "cell_type": "markdown",
      "metadata": {
        "id": "9Ps1LEioRgL2"
      },
      "source": [
        "Матричное умножение:"
      ]
    },
    {
      "cell_type": "code",
      "execution_count": null,
      "metadata": {
        "id": "UIOe-0r4RgL2"
      },
      "outputs": [],
      "source": [
        "vec.dot(vec ** 2)"
      ]
    },
    {
      "cell_type": "code",
      "execution_count": null,
      "metadata": {
        "id": "qCnf1o9ORgL2"
      },
      "outputs": [],
      "source": [
        "vec.dot((vec ** 2).T)"
      ]
    },
    {
      "cell_type": "code",
      "execution_count": null,
      "metadata": {
        "id": "ocDbDgYxRgL2"
      },
      "outputs": [],
      "source": [
        "vec @ (vec ** 2).T"
      ]
    },
    {
      "cell_type": "markdown",
      "metadata": {
        "id": "bfsAAvdiRgL3"
      },
      "source": [
        "Broadcasting:\n",
        "https://docs.scipy.org/doc/numpy-1.15.0/user/basics.broadcasting.html"
      ]
    },
    {
      "cell_type": "code",
      "execution_count": null,
      "metadata": {
        "id": "pvwjfkKGRgL3"
      },
      "outputs": [],
      "source": [
        "vec"
      ]
    },
    {
      "cell_type": "code",
      "execution_count": null,
      "metadata": {
        "id": "Z2YvXrrLRgL3"
      },
      "outputs": [],
      "source": [
        "np.arange(3).reshape(3, 1)"
      ]
    },
    {
      "cell_type": "code",
      "execution_count": null,
      "metadata": {
        "id": "HUbbMLk9RgL3"
      },
      "outputs": [],
      "source": [
        "vec + np.arange(3).reshape(3, 1)"
      ]
    },
    {
      "cell_type": "markdown",
      "metadata": {
        "id": "x2-KxC1bRgL3"
      },
      "source": [
        "Генерация случайных чисел:"
      ]
    },
    {
      "cell_type": "code",
      "execution_count": null,
      "metadata": {
        "id": "cOw3asHBRgL3"
      },
      "outputs": [],
      "source": [
        "np.random.rand(2, 3)"
      ]
    },
    {
      "cell_type": "code",
      "execution_count": null,
      "metadata": {
        "id": "QCvbsR1XRgL3"
      },
      "outputs": [],
      "source": [
        "np.random.seed(2019)\n",
        "np.random.rand(2, 3)"
      ]
    },
    {
      "cell_type": "code",
      "execution_count": null,
      "metadata": {
        "id": "xSTTxNd3RgL3"
      },
      "outputs": [],
      "source": [
        "np.random.randn(3, 2)"
      ]
    },
    {
      "cell_type": "code",
      "execution_count": null,
      "metadata": {
        "id": "cD0QXQ31RgL3"
      },
      "outputs": [],
      "source": [
        "np.random.normal(2, 1, size=3)"
      ]
    },
    {
      "cell_type": "code",
      "execution_count": null,
      "metadata": {
        "id": "Sh4PzX3uRgL4"
      },
      "outputs": [],
      "source": [
        "np.random.randint(5, 10, size=3)"
      ]
    },
    {
      "cell_type": "markdown",
      "metadata": {
        "id": "lOnuMc73RgL4"
      },
      "source": [
        "Почему вообще используют `numpy`?"
      ]
    },
    {
      "cell_type": "code",
      "execution_count": null,
      "metadata": {
        "id": "jLVzrk8rRgL4"
      },
      "outputs": [],
      "source": [
        "n = 300\n",
        "A = np.random.rand(n, n)\n",
        "B = np.random.rand(n, n)"
      ]
    },
    {
      "cell_type": "code",
      "execution_count": null,
      "metadata": {
        "id": "fKcAaJ7FRgL4"
      },
      "outputs": [],
      "source": [
        "%%time\n",
        "C = np.zeros((n, n))\n",
        "for i in range(n):\n",
        "    for j in range(n):\n",
        "        for k in range(n):\n",
        "            C[i, j] += A[i, k] * B[k, j]"
      ]
    },
    {
      "cell_type": "code",
      "execution_count": null,
      "metadata": {
        "id": "ufnbZwbWRgL4"
      },
      "outputs": [],
      "source": [
        "%%time\n",
        "C = A @ B"
      ]
    },
    {
      "cell_type": "markdown",
      "metadata": {
        "id": "rIAbWlS6RgL4"
      },
      "source": [
        "### Задания для самостоятельного решения"
      ]
    },
    {
      "cell_type": "markdown",
      "metadata": {
        "id": "MCnDJl3jRgL4"
      },
      "source": [
        "1. Развернуть одномерный массив (сделать так, чтобы его элементы шли в обратном порядке).\n",
        "2. Найти максимальный нечетный элемент в массиве.\n",
        "3. Замените все нечетные элементы массива на ваше любимое число.\n",
        "4. Создайте массив первых n нечетных чисел, записанных в порядке убывания. Например, если `n=5`, то ответом будет `array([9, 7, 5, 3, 1])`. *Функции, которые могут пригодиться при решении: `.arange()`*\n",
        "5. Вычислите самое близкое и самое дальнее числа к данному в рассматриваемом массиве чисел. Например, если на вход поступают массив `array([0, 1, 2, 3, 4])` и число 1.33, то ответом будет `(1, 4)`. _Функции, которые могут пригодиться при решении: `.abs()`, `.argmax()`, `.argmin()`_\n",
        "6. Вычисляющую первообразную заданного полинома (в качестве константы возьмите ваше любимое число). Например, если на вход поступает массив коэффициентов `array([4, 6, 0, 1])`, что соответствует полиному $4x^3 + 6x^2 + 1$, на выходе получается массив коэффициентов `array([1, 2, 0, 1, -2])`, соответствующий полиному $x^4 + 2x^3 + x - 2$. _Функции, которые могут пригодиться при решении: `.append()`_\n",
        "7. Пользуясь пунктом 6, посчитайте первую производную для заданного полинома в заданной точке."
      ]
    },
    {
      "cell_type": "code",
      "execution_count": null,
      "metadata": {
        "colab": {
          "base_uri": "https://localhost:8080/"
        },
        "id": "gilJjNZZRgL4",
        "outputId": "a759cb3a-339b-4cab-c50b-414ab736f686"
      },
      "outputs": [
        {
          "output_type": "stream",
          "name": "stdout",
          "text": [
            "1. Развернутый массив: [5 4 3 2 1]\n",
            "2. Максимальный нечетный элемент: 5\n",
            "3. Массив с замененными нечетными элементами: [7 2 7 4 7]\n",
            "4. Массив первых n нечетных чисел в порядке убывания: [13 11  9  7  5  3  1]\n",
            "5. Самое близкое и самое дальнее числа: 1 5\n",
            "6. Первообразная полинома: [0.75       2.33333333 1.         9.         0.        ]\n",
            "7. Первая производная в точке 4: 202\n"
          ]
        }
      ],
      "source": [
        "import numpy as np\n",
        "\n",
        "# 1 задание\n",
        "def reverse_array(arr):\n",
        "    return arr[::-1]\n",
        "\n",
        "# 2. Максимальный нечетный элемент\n",
        "def max_odd_element(arr):\n",
        "    return np.max(arr[arr % 2 != 0])\n",
        "\n",
        "# 3 задание\n",
        "def replace_odd_elements(arr, favorite_number):\n",
        "    arr[arr % 2 != 0] = favorite_number\n",
        "    return arr\n",
        "\n",
        "# 4 задание\n",
        "def first_n_odd_descending(n):\n",
        "    return np.arange(2 * n - 1, 0, -2)\n",
        "\n",
        "# 5 задание\n",
        "def closest_and_farthest(arr, given_number):\n",
        "    closest_number = arr[np.abs(arr - given_number).argmin()]\n",
        "    farthest_number = arr[np.abs(arr - given_number).argmax()]\n",
        "    return closest_number, farthest_number\n",
        "\n",
        "# 6 задание\n",
        "def polynomial_antiderivative(coefficients):\n",
        "    return np.polyint(coefficients)\n",
        "\n",
        "# 7 задание\n",
        "def polynomial_derivative_at_point(coefficients, point):\n",
        "    derivative_at_point = np.polyder(coefficients)\n",
        "    derivative_value = np.polyval(derivative_at_point, point)\n",
        "    return derivative_value\n",
        "\n",
        "\n",
        "arr = np.array([1, 2, 3, 4, 5])\n",
        "favorite_number = 7\n",
        "given_number = 1.33\n",
        "n = 7\n",
        "point = 4\n",
        "coefficients = np.array([3, 7, 2, 9])\n",
        "\n",
        "reversed_arr = reverse_array(arr)\n",
        "print(\"1. Развернутый массив:\", reversed_arr)\n",
        "\n",
        "max_odd = max_odd_element(arr)\n",
        "print(\"2. Максимальный нечетный элемент:\", max_odd)\n",
        "\n",
        "arr_replaced = replace_odd_elements(arr.copy(), favorite_number)\n",
        "print(\"3. Массив с замененными нечетными элементами:\", arr_replaced)\n",
        "\n",
        "odd_descending = first_n_odd_descending(n)\n",
        "print(\"4. Массив первых n нечетных чисел в порядке убывания:\", odd_descending)\n",
        "\n",
        "closest, farthest = closest_and_farthest(arr, given_number)\n",
        "print(\"5. Самое близкое и самое дальнее числа:\", closest, farthest)\n",
        "\n",
        "integral_coefficients = polynomial_antiderivative(coefficients)\n",
        "print(\"6. Первообразная полинома:\", integral_coefficients)\n",
        "\n",
        "derivative_value = polynomial_derivative_at_point(coefficients, point)\n",
        "print(f\"7. Первая производная в точке {point}:\", derivative_value)\n"
      ]
    }
  ],
  "metadata": {
    "kernelspec": {
      "display_name": "Python 3",
      "language": "python",
      "name": "python3"
    },
    "language_info": {
      "codemirror_mode": {
        "name": "ipython",
        "version": 3
      },
      "file_extension": ".py",
      "mimetype": "text/x-python",
      "name": "python",
      "nbconvert_exporter": "python",
      "pygments_lexer": "ipython3",
      "version": "3.6.3"
    },
    "colab": {
      "provenance": []
    }
  },
  "nbformat": 4,
  "nbformat_minor": 0
}