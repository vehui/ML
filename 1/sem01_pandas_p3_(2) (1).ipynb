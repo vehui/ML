{
  "cells": [
    {
      "cell_type": "markdown",
      "metadata": {
        "id": "aTC25O2fRg2U"
      },
      "source": [
        "# Семинар 1"
      ]
    },
    {
      "cell_type": "markdown",
      "metadata": {
        "id": "71u_8VD4Rg2V"
      },
      "source": [
        "## pandas"
      ]
    },
    {
      "cell_type": "markdown",
      "metadata": {
        "id": "Ttr0TDPGRg2W"
      },
      "source": [
        "![](pandas.jpg)"
      ]
    },
    {
      "cell_type": "markdown",
      "metadata": {
        "id": "xOcH9JjbRg2W"
      },
      "source": [
        "- документация: http://pandas.pydata.org/pandas-docs/stable/\n",
        "- 10 minutes to pandas: https://pandas.pydata.org/pandas-docs/stable/10min.html\n",
        "- Pandas Tutorial: DataFrames in Python: https://www.datacamp.com/community/tutorials/pandas-tutorial-dataframe-python\n",
        "- Cheet Sheet: https://www.analyticsvidhya.com/blog/2015/07/11-steps-perform-data-analysis-pandas-python/\n",
        "- Visualization: http://pandas.pydata.org/pandas-docs/stable/visualization.html"
      ]
    },
    {
      "cell_type": "markdown",
      "metadata": {
        "id": "a2wgstL3Rg2W"
      },
      "source": [
        "Будем работать с данными, собранными благодаря опросу студентов математического курса средней школы в Португалии (возраст - от 15 до 22 лет). Они находятся в файле \"math_students.csv\". Целевой переменной является итоговая оценка студента за курс."
      ]
    },
    {
      "cell_type": "code",
      "execution_count": null,
      "metadata": {
        "id": "go9whFq3Rg2W"
      },
      "outputs": [],
      "source": [
        "import matplotlib.pyplot as plt\n",
        "import pandas as pd\n",
        "\n",
        "# магическая функция, позволяющая выводить графики прямо в ноутбук\n",
        "%matplotlib inline"
      ]
    },
    {
      "cell_type": "markdown",
      "metadata": {
        "id": "1oLT6OHARg2X"
      },
      "source": [
        "Загрузим данные и посмотрим на них."
      ]
    },
    {
      "cell_type": "code",
      "execution_count": null,
      "metadata": {
        "id": "k9n8sdSWRg2X"
      },
      "outputs": [],
      "source": [
        "# если данные и ноутбук находятся в разных папках, то для загрузки файла помимо названия необходимо также прописать путь к нему\n",
        "# .csv - текстовый файл для представления табличных данных, разделенных каким-то символом. В данном случае - запятой\n",
        "data = pd.read_csv('math_students.csv', delimiter=',')\n",
        "\n",
        "# функция .head(n) выводит первые n строк таблицы (по умолчанию n=5)\n",
        "data.head()"
      ]
    },
    {
      "cell_type": "markdown",
      "metadata": {
        "id": "Kn9HKXLhRg2X"
      },
      "source": [
        "Аналогично, можно смотреть не на верхние строки таблицы, а на нижние:"
      ]
    },
    {
      "cell_type": "code",
      "execution_count": null,
      "metadata": {
        "id": "NO3ZGnruRg2X"
      },
      "outputs": [],
      "source": [
        "data.tail()"
      ]
    },
    {
      "cell_type": "markdown",
      "metadata": {
        "id": "7By1hQNFRg2X"
      },
      "source": [
        "В данном случае объектами являются студенты, признаками - различные их характеристики. Найдем число и тех, и других:"
      ]
    },
    {
      "cell_type": "code",
      "execution_count": null,
      "metadata": {
        "id": "smVaqek2Rg2X"
      },
      "outputs": [],
      "source": [
        "data.shape"
      ]
    },
    {
      "cell_type": "markdown",
      "metadata": {
        "id": "yhRA0DHARg2Y"
      },
      "source": [
        "Итак, всего объектов 395, а признаков - 32 (учитываем, что один из столбцов - это целевая переменная). Все признаки имеют разную природу. Вот их более подробная расшифровка:\n",
        "\n",
        " - school - тип школы (\"GP\" - Gabriel Pereira или \"MS\" - Mousinho da Silveira)\n",
        " - sex - пол (\"F\" - female или \"M\" - male)\n",
        " - age - возраст (от 15 до 22)\n",
        " - address - откуда студент (\"U\" - urban или \"R\" - rural)\n",
        " - famsize - размер семьи (\"LE3\" - меньше или равно 3 или \"GT3\" - больше 3)\n",
        " - Pstatus - в каких отношениях родители (\"T\" - живут вместе \"A\" - раздельно)\n",
        " - Medu - образование матери (0 - никакого,  1 - начальное образование (4 класса), 2 – от 5 до 9 классов, 3 – среднеспециальное или 4 – высшее)\n",
        " - Fedu - образование отца (0 - никакого,  1 - начальное образование (4 класса), 2 – от 5 до 9 классов, 3 – среднеспециальное или 4 – высшее)\n",
        " - Mjob - работа матери (\"teacher\", \"health\" care related, civil \"services\" (e.g. administrative or police), \"at_home\" or \"other\")\n",
        " - Fjob - работа отца (\"teacher\", \"health\" care related, civil \"services\" (e.g. administrative or police), \"at_home\" or \"other\")\n",
        " - reason - причина выбора школы (близко к дому — \"home\", репутация школы — \"reputation\", предпочтение некоторым предметам - \"course\" или \"other\")\n",
        " - guardian - опекун (\"mother\", \"father\" или \"other\")\n",
        " - traveltime - время от дома до школы (1 - меньше 15 мин., 2 - 15 до 30 мин., 3 - 30 мин. до 1 часа, или 4 - больше 1 часа)\n",
        " - studytime - количество часов обучения в неделю (1 - меньше 2 часов, 2 - от 2 до 5 часов, 3 - от 5 до 10 часов, или 4 - больше 10 часов)\n",
        " - failures - количество ранее не сданных предметов (n if 1 <= n < 3, else 4)\n",
        " - schoolsup - дополнительные занятия (yes or no)\n",
        " - famsup - помощь от семьи при выполнении заданий (yes or no)\n",
        " - paid - дополнительные платные занятия (yes or no)\n",
        " - activities - внеклассная деятельность (yes or no)\n",
        " - nursery - посещал детский сад (yes or no)\n",
        " - higher - желание высшего образования (yes or no)\n",
        " - internet - домашний интернет (yes or no)\n",
        " - romantic - состоит в романтических отношениях (yes or no)\n",
        " - famrel - насколько хороши отношения в семье (от 1 - очень плохие до 5 - превосходные)\n",
        " - freetime - наличие свободного времени после школы (от 1 - очень мало до 5 - очень много)\n",
        " - goout - гуляет с друзьями (от 1 - редко до 5 - очень часто)\n",
        " - Dalc - употребление алкоголя в будние дни (от 1 - очень редко до 5 - очень часто)\n",
        " - Walc - употребление алкоголя в выходные (от 1 - очень редко до 5 - очень часто)\n",
        " - health - текущее состояние здоровья (от 1 - очень плохое до 5 - очень хорошее)\n",
        " - absences - количество школьных пропусков (от 0 до 93)\n",
        " - G1 - оценка за первый семестр (от 0 до 20)\n",
        " - G2 - оценка за второй семестр (от 0 до 20)\n",
        " - G3 - итоговая оценка (от 0 до 20)"
      ]
    },
    {
      "cell_type": "markdown",
      "metadata": {
        "id": "ue-2GcT4Rg2Y"
      },
      "source": [
        "Для вывода названий всех признаков есть специальная функция:"
      ]
    },
    {
      "cell_type": "code",
      "execution_count": null,
      "metadata": {
        "id": "6gYTqQmwRg2Y"
      },
      "outputs": [],
      "source": [
        "data.columns"
      ]
    },
    {
      "cell_type": "markdown",
      "metadata": {
        "id": "XTmjthT7Rg2Y"
      },
      "source": [
        "Чтобы отделить от признаков целевую переменную, давайте удалим из таблицы последнюю колонку - 'G3'. Как получить таблицу без последней колонки?"
      ]
    },
    {
      "cell_type": "code",
      "execution_count": null,
      "metadata": {
        "id": "hh5KdDOlRg2Y"
      },
      "outputs": [],
      "source": [
        "data[:, :-1]"
      ]
    },
    {
      "cell_type": "markdown",
      "metadata": {
        "id": "z2tnPwTqRg2Y"
      },
      "source": [
        "Как видно, индексация как в массивах `numpy` в нашем случае не работает. Давайте рассмотрим список названий колонок, который упоминался выше, без последнего элемента:"
      ]
    },
    {
      "cell_type": "code",
      "execution_count": null,
      "metadata": {
        "id": "a2ajmOQURg2Y"
      },
      "outputs": [],
      "source": [
        "data.columns[:-1]"
      ]
    },
    {
      "cell_type": "markdown",
      "metadata": {
        "id": "6erd1_i_Rg2Z"
      },
      "source": [
        "Теперь \"выделим\" в таблице те столбцы, которые мы хотим оставить."
      ]
    },
    {
      "cell_type": "code",
      "execution_count": null,
      "metadata": {
        "id": "9oh3gmmcRg2Z"
      },
      "outputs": [],
      "source": [
        "data[data.columns[:-1]].head()"
      ]
    },
    {
      "cell_type": "markdown",
      "metadata": {
        "id": "37nF1PsoRg2Z"
      },
      "source": [
        "Заметим, что если бы мы выделили все названия исходных столбцов, то у нас получилась бы и исходная таблица:"
      ]
    },
    {
      "cell_type": "code",
      "execution_count": null,
      "metadata": {
        "id": "BV_bl4bNRg2Z"
      },
      "outputs": [],
      "source": [
        "data[data.columns].head()"
      ]
    },
    {
      "cell_type": "markdown",
      "metadata": {
        "id": "knGzAaT1Rg2Z"
      },
      "source": [
        "Как можно еще? Можно оставить элементы таблицы с нужными индексами с помощью функции `iloc`. Все строки мы оставляем на своих местах (`:`), а столбцы берем до минус первого - последнего (`:-1`):"
      ]
    },
    {
      "cell_type": "code",
      "execution_count": null,
      "metadata": {
        "id": "VMKdeXY6Rg2Z"
      },
      "outputs": [],
      "source": [
        "data.iloc[:, :-1].head()"
      ]
    },
    {
      "cell_type": "markdown",
      "metadata": {
        "id": "rVHVm_ciRg2Z"
      },
      "source": [
        "Также можно обращаться к строкам-столбцам таблицы не по индексам, а по названиям - с помощью функции `loc`:"
      ]
    },
    {
      "cell_type": "code",
      "execution_count": null,
      "metadata": {
        "id": "uNCM8UhIRg2Z"
      },
      "outputs": [],
      "source": [
        "data.loc[:, data.columns[:-1]].head()"
      ]
    },
    {
      "cell_type": "markdown",
      "metadata": {
        "id": "gL8J6MTURg2Z"
      },
      "source": [
        "Еще один способ - исключим из таблицы все, что нам нужно, с помощью функции `drop`:"
      ]
    },
    {
      "cell_type": "code",
      "execution_count": null,
      "metadata": {
        "id": "4PVJVvOfRg2Z"
      },
      "outputs": [],
      "source": [
        "data.drop(['G3'], axis=1).head()"
      ]
    },
    {
      "cell_type": "markdown",
      "metadata": {
        "id": "Gqj07fQQRg2Z"
      },
      "source": [
        "Этот способ достаточно удобен, потому что он не зависит от положения колонки \"G3\" в таблице - неважно, была она последней, первой или третьей с конца."
      ]
    },
    {
      "cell_type": "markdown",
      "metadata": {
        "id": "U8LGrifqRg2a"
      },
      "source": [
        "Обратите внимание на важный параметр `axis`, который указывает на то, на что нужно смотреть - на колонки или столбцы. По умолчанию в данном случае он принимает значение 0 - посмотрим, что получится, если забыть его:"
      ]
    },
    {
      "cell_type": "code",
      "execution_count": null,
      "metadata": {
        "id": "3GgQARlXRg2a"
      },
      "outputs": [],
      "source": [
        "data.drop(['G3'], axis=0).head()"
      ]
    },
    {
      "cell_type": "markdown",
      "metadata": {
        "id": "JYeCAcM2Rg2a"
      },
      "source": [
        "Действительно, никакая из строк таблицы не называется \"G3\", так что программа не понимает, что мы от нее хотим - исключать нечего."
      ]
    },
    {
      "cell_type": "markdown",
      "metadata": {
        "id": "4UX38DN5Rg2a"
      },
      "source": [
        "Посмотрим, есть ли в данных пропуски:"
      ]
    },
    {
      "cell_type": "code",
      "execution_count": null,
      "metadata": {
        "id": "gCNkHxTKRg2a"
      },
      "outputs": [],
      "source": [
        "data.isnull().any().any()"
      ]
    },
    {
      "cell_type": "markdown",
      "metadata": {
        "id": "OvV9X3J6Rg2a"
      },
      "source": [
        "Давайте разберемся, что сейчас произошло."
      ]
    },
    {
      "cell_type": "code",
      "execution_count": null,
      "metadata": {
        "id": "RjIBCHLbRg2a"
      },
      "outputs": [],
      "source": [
        "data.isnull()"
      ]
    },
    {
      "cell_type": "code",
      "execution_count": null,
      "metadata": {
        "id": "kPS2xNDDRg2a"
      },
      "outputs": [],
      "source": [
        "data.isnull().any()"
      ]
    },
    {
      "cell_type": "code",
      "execution_count": null,
      "metadata": {
        "id": "U97xuWibRg2a"
      },
      "outputs": [],
      "source": [
        "data.isnull().any().any()"
      ]
    },
    {
      "cell_type": "markdown",
      "metadata": {
        "id": "Zm_G4tC_Rg2d"
      },
      "source": [
        "Итак, пропусков нет."
      ]
    },
    {
      "cell_type": "markdown",
      "metadata": {
        "id": "Nk45kqqWRg2e"
      },
      "source": [
        "По любой функции можно получить информацию из документации следующим образом:"
      ]
    },
    {
      "cell_type": "code",
      "execution_count": null,
      "metadata": {
        "id": "Y8vkbE_VRg2e"
      },
      "outputs": [],
      "source": [
        "?pd.isnull()"
      ]
    },
    {
      "cell_type": "markdown",
      "metadata": {
        "id": "W6muxAMcRg2e"
      },
      "source": [
        "Либо - нажав Shift+Tab+Tab."
      ]
    },
    {
      "cell_type": "markdown",
      "metadata": {
        "id": "qWvrSUaURg2e"
      },
      "source": [
        "Можно вывести статистику по значениям признаков:"
      ]
    },
    {
      "cell_type": "code",
      "execution_count": null,
      "metadata": {
        "id": "0lzJOLFJRg2e"
      },
      "outputs": [],
      "source": [
        "data.describe()"
      ]
    },
    {
      "cell_type": "markdown",
      "metadata": {
        "id": "7FznvcnvRg2e"
      },
      "source": [
        "Более подробное описание значений признаков (количество непустых значений, типов столбцов и объема занимаемой памяти):"
      ]
    },
    {
      "cell_type": "code",
      "execution_count": null,
      "metadata": {
        "id": "xXx1P8rLRg2e"
      },
      "outputs": [],
      "source": [
        "data.info()"
      ]
    },
    {
      "cell_type": "markdown",
      "metadata": {
        "id": "d9bi36FORg2e"
      },
      "source": [
        "Какие значения принимает признак `guardian`?"
      ]
    },
    {
      "cell_type": "code",
      "execution_count": null,
      "metadata": {
        "id": "E_oHX3h_Rg2e"
      },
      "outputs": [],
      "source": [
        "data['guardian'].unique()"
      ]
    },
    {
      "cell_type": "code",
      "execution_count": null,
      "metadata": {
        "id": "eVjFF1tnRg2e"
      },
      "outputs": [],
      "source": [
        "data['guardian'].nunique()"
      ]
    },
    {
      "cell_type": "code",
      "execution_count": null,
      "metadata": {
        "id": "gvcXpsYDRg2e"
      },
      "outputs": [],
      "source": [
        "data['guardian'].value_counts()"
      ]
    },
    {
      "cell_type": "markdown",
      "metadata": {
        "id": "q0RwXnFRRg2f"
      },
      "source": [
        "Выделим только тех студентов, у которых опекуном является мать и которая работает учителем или на дому:"
      ]
    },
    {
      "cell_type": "code",
      "execution_count": null,
      "metadata": {
        "id": "Xe1y2_QfRg2f"
      },
      "outputs": [],
      "source": [
        "data[(data['guardian'] == 'mother') & ((data['Mjob'] == 'teacher') | (data['Mjob'] == 'at_home'))].head()"
      ]
    },
    {
      "cell_type": "markdown",
      "metadata": {
        "id": "5hizooYuRg2f"
      },
      "source": [
        "Работа с признаками - очень важный этап решения задачи. Помимо имеющихся признаков, можно создавать новые, которые могут оказаться полезными для построения качественного алгоритма. Например, внимательно изучив описания признаков, связанных с алкоголем, создадим признак \"alc\", который будет отражать общее употребление алкоголя в течение недели по формуле ниже:\n",
        "\n",
        "$$\n",
        "alc = \\frac{5\\times Dalc + 2 \\times Walc}{7}\n",
        "$$"
      ]
    },
    {
      "cell_type": "code",
      "execution_count": null,
      "metadata": {
        "id": "2pNHOtT0Rg2f"
      },
      "outputs": [],
      "source": [
        "data['alc'] = (5 * data['Dalc'] + 2 * data['Walc']) / 7"
      ]
    },
    {
      "cell_type": "code",
      "execution_count": null,
      "metadata": {
        "id": "pnKS_Y78Rg2f"
      },
      "outputs": [],
      "source": [
        "data[['Walc', 'Dalc', 'alc']].head()"
      ]
    },
    {
      "cell_type": "markdown",
      "metadata": {
        "id": "Dpxn7XQ9Rg2f"
      },
      "source": [
        "Проанализируем взаимосвязь количества пропусков и успехов в учебе. Посмотрим на распределение количества пропусков у студентов:"
      ]
    },
    {
      "cell_type": "code",
      "execution_count": null,
      "metadata": {
        "id": "qCFMUgsSRg2f"
      },
      "outputs": [],
      "source": [
        "plt.figure(figsize=(10,7))\n",
        "plt.title('Absences distribution')\n",
        "data['absences'].hist()\n",
        "plt.xlabel('absences')\n",
        "plt.ylabel('number of students')\n",
        "plt.show()"
      ]
    },
    {
      "cell_type": "markdown",
      "metadata": {
        "id": "CYvD4-jYRg2f"
      },
      "source": [
        "Посмотрим на среднее количество пропусков:"
      ]
    },
    {
      "cell_type": "code",
      "execution_count": null,
      "metadata": {
        "id": "UoF60CQkRg2f"
      },
      "outputs": [],
      "source": [
        "data['absences'].mean()"
      ]
    },
    {
      "cell_type": "markdown",
      "metadata": {
        "id": "5R5oQMjDRg2g"
      },
      "source": [
        "Итак, из гистограммы и полученного значения можно сделать вывод, что большинство студентов пропускает не так много занятий. Теперь посмотрим на влияние количества пропусков на итоговую оценку. Для этого разделим студентов на две части: те, у кого количество пропусков меньше среднего, и те, у кого оно не меньше среднего."
      ]
    },
    {
      "cell_type": "code",
      "execution_count": null,
      "metadata": {
        "id": "iAswGgAGRg2g"
      },
      "outputs": [],
      "source": [
        "mean_absences = data['absences'].mean()\n",
        "stud_few_absences = data[data['absences'] < mean_absences]\n",
        "stud_many_absences = data[data['absences'] >= mean_absences]"
      ]
    },
    {
      "cell_type": "markdown",
      "metadata": {
        "id": "VL1uI1-dRg2g"
      },
      "source": [
        "Посмотрим, сколько получилось и тех, и других."
      ]
    },
    {
      "cell_type": "code",
      "execution_count": null,
      "metadata": {
        "id": "wJr3_MLSRg2g"
      },
      "outputs": [],
      "source": [
        "print('Students with few absences:', stud_few_absences.shape[0])\n",
        "print('Students with many absences:', stud_many_absences.shape[0])"
      ]
    },
    {
      "cell_type": "markdown",
      "metadata": {
        "id": "bETbH4vGRg2g"
      },
      "source": [
        "Посчитаем среднее значение целевой переменной для каждой части."
      ]
    },
    {
      "cell_type": "code",
      "execution_count": null,
      "metadata": {
        "id": "yN3GF3BvRg2g"
      },
      "outputs": [],
      "source": [
        "stud_few_absences_g3 = stud_few_absences['G3'].mean()\n",
        "stud_many_absences_g3 = stud_many_absences['G3'].mean()\n",
        "print('Students with few absences, mean G3:', stud_few_absences_g3)\n",
        "print('Students with many absences, mean G3:', stud_many_absences_g3)"
      ]
    },
    {
      "cell_type": "markdown",
      "metadata": {
        "id": "Z6Hpfg5HRg2g"
      },
      "source": [
        "\n",
        "\n",
        "Итак, средние оценки примерно одинаковы - у тех, кто пропускал меньше занятий, она чуть хуже. Возможно, студенты, пропускавшие много занятий, знали материал очень хорошо :) Впрочем, подобное исследование не позволяет делать никаких серьезных выводов."
      ]
    },
    {
      "cell_type": "markdown",
      "metadata": {
        "id": "qaFVICvVRg2g"
      },
      "source": [
        "Также данные можно исследовать с помощью группировки и агрегирования. Например, найдем исследуем закономерности, связанные с разными школами. Сгруппируем объекты по школам:"
      ]
    },
    {
      "cell_type": "code",
      "execution_count": null,
      "metadata": {
        "id": "j20gtSF3Rg2g"
      },
      "outputs": [],
      "source": [
        "data_by_school = data.groupby('school')\n",
        "data_by_school.describe()"
      ]
    },
    {
      "cell_type": "markdown",
      "metadata": {
        "id": "lXPcndLURg2h"
      },
      "source": [
        "Теперь посмотрим на среднее значение признаков для каждой школы:"
      ]
    },
    {
      "cell_type": "code",
      "execution_count": null,
      "metadata": {
        "id": "ZXW4oM79Rg2h"
      },
      "outputs": [],
      "source": [
        "data_by_school.mean()"
      ]
    },
    {
      "cell_type": "markdown",
      "metadata": {
        "id": "USFyCu2ARg2h"
      },
      "source": [
        "Можно заметить, например, что в среднем до школы Mousinho da Silveira студентам нужно добираться дольше, чем до Gabriel Pereira. Интересно, что, несмотря на это, в среднем количество пропусков у них меньше."
      ]
    },
    {
      "cell_type": "markdown",
      "metadata": {
        "id": "W5iUPv0PRg2h"
      },
      "source": [
        "### Задания для самостоятельного решения"
      ]
    },
    {
      "cell_type": "markdown",
      "metadata": {
        "id": "eR8PGv4SRg2h"
      },
      "source": [
        "1. Получите таблицу со студентами с четными номерами.\n",
        "2. Получите таблицу со студентами, имеющими четное число пропусков.\n",
        "3. Верно ли, что студенты, имеющие больше 10 пропусков, учатся хуже, чем остальные?\n",
        "4. Как вы думаете, какие еще признаки могут повлиять на итоговую оценку? Найдите закономерности, аналогичные рассмотренным.\n",
        "5. Как вы думаете, если при школе откроется общежитие, насколько актуально это будет для студентов математического класса?\n",
        "6. Найдите в данных закономерности с помощью группировки."
      ]
    },
    {
      "cell_type": "code",
      "execution_count": null,
      "metadata": {
        "id": "61dtS4p_Rg2h"
      },
      "outputs": [],
      "source": [
        "import pandas as pd\n",
        "import numpy as np\n",
        "\n",
        "\n",
        "students_data = pd.read_csv('math_students.csv')\n",
        "\n",
        "# 1\n",
        "even_indexed_students = students_data.iloc[students_data.index % 2 == 0]\n",
        "\n",
        "# 2\n",
        "even_absences_students = students_data[students_data['absences'] % 2 == 0]\n",
        "\n",
        "# 3\n",
        "students_high_absences = students_data[students_data['absences'] > 10]\n",
        "students_low_absences = students_data[students_data['absences'] <= 10]\n",
        "high_absences_average = students_high_absences['G3'].mean()\n",
        "low_absences_average = students_low_absences['G3'].mean()\n",
        "performance_comparison = \"Students with more than 10 absences perform worse than others\" if high_absences_average < low_absences_average else \"Students with more than 10 absences perform as well as others\"\n",
        "\n",
        "# 4\n",
        "numerical_students_data = students_data.select_dtypes(include=[np.number])\n",
        "correlations = numerical_students_data.corr()['G3']\n",
        "\n",
        "# 5\n",
        "absences_grouped_data = students_data.groupby('absences')['G3'].mean()\n",
        "\n",
        "# Print the results\n",
        "print(\"Table of students with even indices:\")\n",
        "print(even_indexed_students.head())\n",
        "\n",
        "print(\"Table of students with even number of absences:\")\n",
        "print(even_absences_students.head())\n",
        "\n",
        "print(f\"Average grade for students with more than 10 absences: {high_absences_average}\")\n",
        "print(f\"Average grade for students with 10 or fewer absences: {low_absences_average}\")\n",
        "print(performance_comparison)\n",
        "\n",
        "print(\"Correlations between final grade G3 and other variables:\")\n",
        "print(correlations)\n",
        "\n",
        "print(\"Average grade by number of absences:\")\n",
        "print(absences_grouped_data.head())\n",
        "\n"
      ]
    }
  ],
  "metadata": {
    "kernelspec": {
      "display_name": "Python 3",
      "language": "python",
      "name": "python3"
    },
    "language_info": {
      "codemirror_mode": {
        "name": "ipython",
        "version": 3
      },
      "file_extension": ".py",
      "mimetype": "text/x-python",
      "name": "python",
      "nbconvert_exporter": "python",
      "pygments_lexer": "ipython3",
      "version": "3.6.3"
    },
    "colab": {
      "provenance": []
    }
  },
  "nbformat": 4,
  "nbformat_minor": 0
}